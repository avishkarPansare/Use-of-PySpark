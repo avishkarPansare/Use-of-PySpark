{
 "cells": [
  {
   "cell_type": "markdown",
   "id": "8f1f5768",
   "metadata": {},
   "source": [
    "# Filter Operation"
   ]
  },
  {
   "cell_type": "code",
   "execution_count": 1,
   "id": "d8b5f992",
   "metadata": {},
   "outputs": [],
   "source": [
    "from pyspark.sql import SparkSession"
   ]
  },
  {
   "cell_type": "code",
   "execution_count": 2,
   "id": "8f414430",
   "metadata": {},
   "outputs": [
    {
     "name": "stderr",
     "output_type": "stream",
     "text": [
      "Setting default log level to \"WARN\".\n",
      "To adjust logging level use sc.setLogLevel(newLevel). For SparkR, use setLogLevel(newLevel).\n"
     ]
    },
    {
     "name": "stdout",
     "output_type": "stream",
     "text": [
      "22/08/03 10:54:54 WARN NativeCodeLoader: Unable to load native-hadoop library for your platform... using builtin-java classes where applicable\n"
     ]
    }
   ],
   "source": [
    "spark = SparkSession.builder.appName('Practice').getOrCreate()"
   ]
  },
  {
   "cell_type": "code",
   "execution_count": 3,
   "id": "a31fb4be",
   "metadata": {},
   "outputs": [],
   "source": [
    "df=spark.read.csv('test.csv',header=True,inferSchema=True)"
   ]
  },
  {
   "cell_type": "code",
   "execution_count": 4,
   "id": "0c5a8075",
   "metadata": {},
   "outputs": [
    {
     "name": "stdout",
     "output_type": "stream",
     "text": [
      "+--------------------+--------------------+----------+--------------------+------+\n",
      "|         productinfo|           firstname|     phone|               email|amount|\n",
      "+--------------------+--------------------+----------+--------------------+------+\n",
      "|Prajnan Subscription|          Prema Jedy|9740355404|prema.jedy@gmail.com|   300|\n",
      "|Vinimaya Subscrip...|      Harpreet Kohli|9872156142|harpreet_kohli200...|   550|\n",
      "|Prajnan Subscription|SUPRIYA KUMAR MAJ...|6207336743|   skm9470@gmail.com|   550|\n",
      "|Vinimaya Subscrip...|         RAJU SARKAR|8250796058|rajulalgola2016@g...|   225|\n",
      "|Prajnan Subscription| THE LIBRARIAN  IIBF|7488152733| je.trg1@iibf.org.in|   300|\n",
      "|                null|                null|      null|                null|  null|\n",
      "|Vinimaya Subscrip...|              Uday K|7276150233|     admin@admin.com|   100|\n",
      "|Vinimaya Subscrip...|              Uday K|7276150233|     admin@admin.com|   225|\n",
      "|Prajnan Subscription|              Uday K|7276150233|     admin@admin.com|   300|\n",
      "|Vinimaya Subscrip...|  Rajiv Kumar Bansal|9650253600|kumarbansal69@gma...|   100|\n",
      "+--------------------+--------------------+----------+--------------------+------+\n",
      "\n"
     ]
    }
   ],
   "source": [
    "df.show()"
   ]
  },
  {
   "cell_type": "code",
   "execution_count": 5,
   "id": "2a5fb171",
   "metadata": {},
   "outputs": [],
   "source": [
    "## Filter "
   ]
  },
  {
   "cell_type": "code",
   "execution_count": 6,
   "id": "32cd0c5a",
   "metadata": {},
   "outputs": [
    {
     "name": "stdout",
     "output_type": "stream",
     "text": [
      "+--------------------+-------------------+----------+--------------------+------+\n",
      "|         productinfo|          firstname|     phone|               email|amount|\n",
      "+--------------------+-------------------+----------+--------------------+------+\n",
      "|Prajnan Subscription|         Prema Jedy|9740355404|prema.jedy@gmail.com|   300|\n",
      "|Vinimaya Subscrip...|        RAJU SARKAR|8250796058|rajulalgola2016@g...|   225|\n",
      "|Prajnan Subscription|THE LIBRARIAN  IIBF|7488152733| je.trg1@iibf.org.in|   300|\n",
      "|Vinimaya Subscrip...|             Uday K|7276150233|     admin@admin.com|   100|\n",
      "|Vinimaya Subscrip...|             Uday K|7276150233|     admin@admin.com|   225|\n",
      "|Prajnan Subscription|             Uday K|7276150233|     admin@admin.com|   300|\n",
      "|Vinimaya Subscrip...| Rajiv Kumar Bansal|9650253600|kumarbansal69@gma...|   100|\n",
      "+--------------------+-------------------+----------+--------------------+------+\n",
      "\n"
     ]
    }
   ],
   "source": [
    "df.filter('amount<=300').show()"
   ]
  },
  {
   "cell_type": "code",
   "execution_count": 7,
   "id": "2e08ac6f",
   "metadata": {},
   "outputs": [
    {
     "name": "stdout",
     "output_type": "stream",
     "text": [
      "+--------------------+-------------------+\n",
      "|         productinfo|          firstname|\n",
      "+--------------------+-------------------+\n",
      "|Prajnan Subscription|         Prema Jedy|\n",
      "|Vinimaya Subscrip...|        RAJU SARKAR|\n",
      "|Prajnan Subscription|THE LIBRARIAN  IIBF|\n",
      "|Vinimaya Subscrip...|             Uday K|\n",
      "|Vinimaya Subscrip...|             Uday K|\n",
      "|Prajnan Subscription|             Uday K|\n",
      "|Vinimaya Subscrip...| Rajiv Kumar Bansal|\n",
      "+--------------------+-------------------+\n",
      "\n"
     ]
    }
   ],
   "source": [
    "df.filter('amount<=300').select([\"productinfo\",\"firstname\"]).show()"
   ]
  },
  {
   "cell_type": "code",
   "execution_count": 9,
   "id": "fdebce3f",
   "metadata": {},
   "outputs": [
    {
     "name": "stdout",
     "output_type": "stream",
     "text": [
      "+--------------------+----------+\n",
      "|         productinfo| firstname|\n",
      "+--------------------+----------+\n",
      "|Prajnan Subscription|Prema Jedy|\n",
      "+--------------------+----------+\n",
      "\n"
     ]
    }
   ],
   "source": [
    "df.filter((df['amount']<=300) & (df['firstname'] == \"Prema Jedy\")).select([\"productinfo\",\"firstname\"]).show()"
   ]
  },
  {
   "cell_type": "code",
   "execution_count": 10,
   "id": "9cfc4aa8",
   "metadata": {},
   "outputs": [
    {
     "name": "stdout",
     "output_type": "stream",
     "text": [
      "+--------------------+-------------------+\n",
      "|         productinfo|          firstname|\n",
      "+--------------------+-------------------+\n",
      "|Prajnan Subscription|         Prema Jedy|\n",
      "|Vinimaya Subscrip...|        RAJU SARKAR|\n",
      "|Prajnan Subscription|THE LIBRARIAN  IIBF|\n",
      "|Vinimaya Subscrip...|             Uday K|\n",
      "|Vinimaya Subscrip...|             Uday K|\n",
      "|Prajnan Subscription|             Uday K|\n",
      "|Vinimaya Subscrip...| Rajiv Kumar Bansal|\n",
      "+--------------------+-------------------+\n",
      "\n"
     ]
    }
   ],
   "source": [
    "df.filter((df['amount']<=300) | (df['firstname'] == \"Prema Jedy\")).select([\"productinfo\",\"firstname\"]).show()"
   ]
  },
  {
   "cell_type": "code",
   "execution_count": 12,
   "id": "196adc3f",
   "metadata": {},
   "outputs": [
    {
     "name": "stdout",
     "output_type": "stream",
     "text": [
      "+--------------------+--------------------+\n",
      "|         productinfo|           firstname|\n",
      "+--------------------+--------------------+\n",
      "|Vinimaya Subscrip...|      Harpreet Kohli|\n",
      "|Prajnan Subscription|SUPRIYA KUMAR MAJ...|\n",
      "+--------------------+--------------------+\n",
      "\n"
     ]
    }
   ],
   "source": [
    "df.filter(~(df['amount']<=300)).select([\"productinfo\",\"firstname\"]).show()"
   ]
  },
  {
   "cell_type": "code",
   "execution_count": null,
   "id": "5145c502",
   "metadata": {},
   "outputs": [],
   "source": []
  }
 ],
 "metadata": {
  "kernelspec": {
   "display_name": "Python 3 (ipykernel)",
   "language": "python",
   "name": "python3"
  },
  "language_info": {
   "codemirror_mode": {
    "name": "ipython",
    "version": 3
   },
   "file_extension": ".py",
   "mimetype": "text/x-python",
   "name": "python",
   "nbconvert_exporter": "python",
   "pygments_lexer": "ipython3",
   "version": "3.8.10"
  }
 },
 "nbformat": 4,
 "nbformat_minor": 5
}
