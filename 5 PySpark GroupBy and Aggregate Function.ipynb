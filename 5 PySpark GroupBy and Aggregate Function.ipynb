{
 "cells": [
  {
   "cell_type": "markdown",
   "id": "17e615ee",
   "metadata": {},
   "source": [
    "# GroupBy and Aggregate Function"
   ]
  },
  {
   "cell_type": "code",
   "execution_count": 1,
   "id": "ebae3a90",
   "metadata": {},
   "outputs": [],
   "source": [
    "from pyspark.sql import SparkSession"
   ]
  },
  {
   "cell_type": "code",
   "execution_count": 2,
   "id": "20e104d3",
   "metadata": {},
   "outputs": [
    {
     "name": "stderr",
     "output_type": "stream",
     "text": [
      "Setting default log level to \"WARN\".\n",
      "To adjust logging level use sc.setLogLevel(newLevel). For SparkR, use setLogLevel(newLevel).\n"
     ]
    },
    {
     "name": "stdout",
     "output_type": "stream",
     "text": [
      "22/08/03 11:57:47 WARN NativeCodeLoader: Unable to load native-hadoop library for your platform... using builtin-java classes where applicable\n",
      "22/08/03 11:57:48 WARN Utils: Service 'SparkUI' could not bind on port 4040. Attempting port 4041.\n"
     ]
    }
   ],
   "source": [
    "spark = SparkSession.builder.appName('Practice').getOrCreate()"
   ]
  },
  {
   "cell_type": "code",
   "execution_count": 3,
   "id": "a399fb85",
   "metadata": {},
   "outputs": [],
   "source": [
    "df=spark.read.csv('test.csv',header=True,inferSchema=True)"
   ]
  },
  {
   "cell_type": "code",
   "execution_count": 4,
   "id": "dd0ebabe",
   "metadata": {},
   "outputs": [
    {
     "name": "stdout",
     "output_type": "stream",
     "text": [
      "+--------------------+--------------------+----------+--------------------+------+\n",
      "|         productinfo|           firstname|     phone|               email|amount|\n",
      "+--------------------+--------------------+----------+--------------------+------+\n",
      "|Prajnan Subscription|          Prema Jedy|9740355404|prema.jedy@gmail.com|   300|\n",
      "|Vinimaya Subscrip...|      Harpreet Kohli|9872156142|harpreet_kohli200...|   550|\n",
      "|Prajnan Subscription|SUPRIYA KUMAR MAJ...|6207336743|   skm9470@gmail.com|   550|\n",
      "|Vinimaya Subscrip...|         RAJU SARKAR|8250796058|rajulalgola2016@g...|   225|\n",
      "|Prajnan Subscription| THE LIBRARIAN  IIBF|7488152733| je.trg1@iibf.org.in|   300|\n",
      "|                null|                null|      null|                null|  null|\n",
      "|Vinimaya Subscrip...|              Uday K|7276150233|     admin@admin.com|   100|\n",
      "|Vinimaya Subscrip...|              Uday K|7276150233|     admin@admin.com|   225|\n",
      "|Prajnan Subscription|              Uday K|7276150233|     admin@admin.com|   300|\n",
      "|Vinimaya Subscrip...|  Rajiv Kumar Bansal|9650253600|kumarbansal69@gma...|   100|\n",
      "+--------------------+--------------------+----------+--------------------+------+\n",
      "\n"
     ]
    }
   ],
   "source": [
    "df.show()"
   ]
  },
  {
   "cell_type": "code",
   "execution_count": 5,
   "id": "9b0e9893",
   "metadata": {},
   "outputs": [
    {
     "name": "stdout",
     "output_type": "stream",
     "text": [
      "root\n",
      " |-- productinfo: string (nullable = true)\n",
      " |-- firstname: string (nullable = true)\n",
      " |-- phone: long (nullable = true)\n",
      " |-- email: string (nullable = true)\n",
      " |-- amount: integer (nullable = true)\n",
      "\n"
     ]
    }
   ],
   "source": [
    "df.printSchema()"
   ]
  },
  {
   "cell_type": "code",
   "execution_count": 6,
   "id": "88ccfc12",
   "metadata": {},
   "outputs": [],
   "source": [
    "# GroupBy"
   ]
  },
  {
   "cell_type": "code",
   "execution_count": 10,
   "id": "c93a6c01",
   "metadata": {},
   "outputs": [
    {
     "name": "stdout",
     "output_type": "stream",
     "text": [
      "+--------------------+-----------+-----------+\n",
      "|           firstname| sum(phone)|sum(amount)|\n",
      "+--------------------+-----------+-----------+\n",
      "|              Uday K|21828450699|        625|\n",
      "|                null|       null|       null|\n",
      "|          Prema Jedy| 9740355404|        300|\n",
      "|      Harpreet Kohli| 9872156142|        550|\n",
      "|SUPRIYA KUMAR MAJ...| 6207336743|        550|\n",
      "| THE LIBRARIAN  IIBF| 7488152733|        300|\n",
      "|  Rajiv Kumar Bansal| 9650253600|        100|\n",
      "|         RAJU SARKAR| 8250796058|        225|\n",
      "+--------------------+-----------+-----------+\n",
      "\n"
     ]
    }
   ],
   "source": [
    "df.groupBy('firstname').sum().show()"
   ]
  },
  {
   "cell_type": "code",
   "execution_count": 11,
   "id": "a489b425",
   "metadata": {},
   "outputs": [],
   "source": [
    "## GroupBy Product Info"
   ]
  },
  {
   "cell_type": "code",
   "execution_count": 12,
   "id": "d80fc5fb",
   "metadata": {},
   "outputs": [
    {
     "name": "stdout",
     "output_type": "stream",
     "text": [
      "+--------------------+-----------+-----------+\n",
      "|         productinfo| sum(phone)|sum(amount)|\n",
      "+--------------------+-----------+-----------+\n",
      "|Vinimaya Subscrip...|42325506266|       1200|\n",
      "|                null|       null|       null|\n",
      "|Prajnan Subscription|30711995113|       1450|\n",
      "+--------------------+-----------+-----------+\n",
      "\n"
     ]
    }
   ],
   "source": [
    "df.groupBy('productinfo').sum().show()"
   ]
  },
  {
   "cell_type": "code",
   "execution_count": 14,
   "id": "1ae14e14",
   "metadata": {},
   "outputs": [
    {
     "name": "stdout",
     "output_type": "stream",
     "text": [
      "+--------------------+-----+\n",
      "|         productinfo|count|\n",
      "+--------------------+-----+\n",
      "|Vinimaya Subscrip...|    5|\n",
      "|                null|    1|\n",
      "|Prajnan Subscription|    4|\n",
      "+--------------------+-----+\n",
      "\n"
     ]
    }
   ],
   "source": [
    "df.groupBy('productinfo').count().show()"
   ]
  },
  {
   "cell_type": "code",
   "execution_count": 16,
   "id": "e9f2401c",
   "metadata": {},
   "outputs": [
    {
     "name": "stdout",
     "output_type": "stream",
     "text": [
      "+--------------------+----------+-----------+\n",
      "|         productinfo|max(phone)|max(amount)|\n",
      "+--------------------+----------+-----------+\n",
      "|Vinimaya Subscrip...|9872156142|        550|\n",
      "|                null|      null|       null|\n",
      "|Prajnan Subscription|9740355404|        550|\n",
      "+--------------------+----------+-----------+\n",
      "\n"
     ]
    }
   ],
   "source": [
    "df.groupBy('productinfo').max().show()"
   ]
  },
  {
   "cell_type": "code",
   "execution_count": 17,
   "id": "f93ff38c",
   "metadata": {},
   "outputs": [
    {
     "name": "stdout",
     "output_type": "stream",
     "text": [
      "+--------------------+----------+-----------+\n",
      "|         productinfo|min(phone)|min(amount)|\n",
      "+--------------------+----------+-----------+\n",
      "|Vinimaya Subscrip...|7276150233|        100|\n",
      "|                null|      null|       null|\n",
      "|Prajnan Subscription|6207336743|        300|\n",
      "+--------------------+----------+-----------+\n",
      "\n"
     ]
    }
   ],
   "source": [
    "df.groupBy('productinfo').min().show()"
   ]
  },
  {
   "cell_type": "code",
   "execution_count": 15,
   "id": "a0ca35f5",
   "metadata": {},
   "outputs": [
    {
     "name": "stdout",
     "output_type": "stream",
     "text": [
      "+-----------+\n",
      "|sum(amount)|\n",
      "+-----------+\n",
      "|       2650|\n",
      "+-----------+\n",
      "\n"
     ]
    }
   ],
   "source": [
    "df.agg({'amount':'sum'}).show()"
   ]
  },
  {
   "cell_type": "code",
   "execution_count": 18,
   "id": "0bb81d35",
   "metadata": {},
   "outputs": [
    {
     "name": "stdout",
     "output_type": "stream",
     "text": [
      "+------------------+\n",
      "|       avg(amount)|\n",
      "+------------------+\n",
      "|294.44444444444446|\n",
      "+------------------+\n",
      "\n"
     ]
    }
   ],
   "source": [
    "df.agg({'amount':'avg'}).show()"
   ]
  },
  {
   "cell_type": "code",
   "execution_count": 19,
   "id": "70d8ae15",
   "metadata": {},
   "outputs": [
    {
     "name": "stdout",
     "output_type": "stream",
     "text": [
      "+-----------+\n",
      "|max(amount)|\n",
      "+-----------+\n",
      "|        550|\n",
      "+-----------+\n",
      "\n"
     ]
    }
   ],
   "source": [
    "df.agg({'amount':'max'}).show()"
   ]
  },
  {
   "cell_type": "code",
   "execution_count": 20,
   "id": "c20a62bf",
   "metadata": {},
   "outputs": [
    {
     "name": "stdout",
     "output_type": "stream",
     "text": [
      "+------------------+\n",
      "|       avg(amount)|\n",
      "+------------------+\n",
      "|294.44444444444446|\n",
      "+------------------+\n",
      "\n"
     ]
    }
   ],
   "source": [
    "df.agg({'amount':'mean'}).show()"
   ]
  },
  {
   "cell_type": "code",
   "execution_count": null,
   "id": "156b4cb6",
   "metadata": {},
   "outputs": [],
   "source": []
  },
  {
   "cell_type": "code",
   "execution_count": null,
   "id": "266bc79a",
   "metadata": {},
   "outputs": [],
   "source": []
  }
 ],
 "metadata": {
  "kernelspec": {
   "display_name": "Python 3 (ipykernel)",
   "language": "python",
   "name": "python3"
  },
  "language_info": {
   "codemirror_mode": {
    "name": "ipython",
    "version": 3
   },
   "file_extension": ".py",
   "mimetype": "text/x-python",
   "name": "python",
   "nbconvert_exporter": "python",
   "pygments_lexer": "ipython3",
   "version": "3.8.10"
  }
 },
 "nbformat": 4,
 "nbformat_minor": 5
}
