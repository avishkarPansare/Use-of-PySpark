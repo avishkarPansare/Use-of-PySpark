{
 "cells": [
  {
   "cell_type": "code",
   "execution_count": 1,
   "id": "89d5da1f",
   "metadata": {},
   "outputs": [
    {
     "name": "stdout",
     "output_type": "stream",
     "text": [
      "Collecting pyspark\n",
      "  Downloading pyspark-3.3.0.tar.gz (281.3 MB)\n",
      "\u001b[K     |████████████████████████████████| 281.3 MB 963 kB/s eta 0:00:01    |████▋                           | 40.5 MB 3.3 MB/s eta 0:01:14     |███████████████████████         | 201.8 MB 1.9 MB/s eta 0:00:43     |██████████████████████████████▍ | 266.8 MB 2.0 MB/s eta 0:00:08\n",
      "\u001b[?25hCollecting py4j==0.10.9.5\n",
      "  Downloading py4j-0.10.9.5-py2.py3-none-any.whl (199 kB)\n",
      "\u001b[K     |████████████████████████████████| 199 kB 2.4 MB/s eta 0:00:01\n",
      "\u001b[?25hBuilding wheels for collected packages: pyspark\n",
      "  Building wheel for pyspark (setup.py) ... \u001b[?25ldone\n",
      "\u001b[?25h  Created wheel for pyspark: filename=pyspark-3.3.0-py2.py3-none-any.whl size=281764020 sha256=619012e37463dc37d51db791be14bb2ac4d440f94ee4b2c9ae084e1afbfd4ff8\n",
      "  Stored in directory: /home/srvwdmpcubt11/.cache/pip/wheels/1d/27/68/1382001655ef41217e1dd34d59aa777612135379bab64279e9\n",
      "Successfully built pyspark\n",
      "Installing collected packages: py4j, pyspark\n",
      "Successfully installed py4j-0.10.9.5 pyspark-3.3.0\n"
     ]
    }
   ],
   "source": [
    "!pip install pyspark"
   ]
  },
  {
   "cell_type": "code",
   "execution_count": 2,
   "id": "9d877259",
   "metadata": {},
   "outputs": [],
   "source": [
    "import pyspark"
   ]
  },
  {
   "cell_type": "code",
   "execution_count": 5,
   "id": "f30e3852",
   "metadata": {},
   "outputs": [],
   "source": [
    "import pandas as pd"
   ]
  },
  {
   "cell_type": "code",
   "execution_count": 15,
   "id": "a2b51639",
   "metadata": {},
   "outputs": [],
   "source": [
    "df = pd.read_csv('test.csv')"
   ]
  },
  {
   "cell_type": "code",
   "execution_count": 16,
   "id": "b9ba9fc7",
   "metadata": {},
   "outputs": [
    {
     "data": {
      "text/html": [
       "<div>\n",
       "<style scoped>\n",
       "    .dataframe tbody tr th:only-of-type {\n",
       "        vertical-align: middle;\n",
       "    }\n",
       "\n",
       "    .dataframe tbody tr th {\n",
       "        vertical-align: top;\n",
       "    }\n",
       "\n",
       "    .dataframe thead th {\n",
       "        text-align: right;\n",
       "    }\n",
       "</style>\n",
       "<table border=\"1\" class=\"dataframe\">\n",
       "  <thead>\n",
       "    <tr style=\"text-align: right;\">\n",
       "      <th></th>\n",
       "      <th>txnid</th>\n",
       "      <th>productinfo</th>\n",
       "      <th>firstname</th>\n",
       "      <th>phone</th>\n",
       "      <th>email</th>\n",
       "      <th>amount</th>\n",
       "    </tr>\n",
       "  </thead>\n",
       "  <tbody>\n",
       "    <tr>\n",
       "      <th>0</th>\n",
       "      <td>5Bm45J7x</td>\n",
       "      <td>Prajnan Subscription</td>\n",
       "      <td>Prema Jedy</td>\n",
       "      <td>9.740355e+09</td>\n",
       "      <td>prema.jedy@gmail.com</td>\n",
       "      <td>300.0</td>\n",
       "    </tr>\n",
       "    <tr>\n",
       "      <th>1</th>\n",
       "      <td>g43D02jB</td>\n",
       "      <td>Vinimaya Subscription</td>\n",
       "      <td>Harpreet Kohli</td>\n",
       "      <td>9.872156e+09</td>\n",
       "      <td>harpreet_kohli2007@yahoo.co.in</td>\n",
       "      <td>550.0</td>\n",
       "    </tr>\n",
       "    <tr>\n",
       "      <th>2</th>\n",
       "      <td>Y2hH33q0</td>\n",
       "      <td>Prajnan Subscription</td>\n",
       "      <td>SUPRIYA KUMAR MAJUMDAR</td>\n",
       "      <td>6.207337e+09</td>\n",
       "      <td>skm9470@gmail.com</td>\n",
       "      <td>550.0</td>\n",
       "    </tr>\n",
       "    <tr>\n",
       "      <th>3</th>\n",
       "      <td>k49tE75T</td>\n",
       "      <td>Vinimaya Subscription</td>\n",
       "      <td>RAJU SARKAR</td>\n",
       "      <td>8.250796e+09</td>\n",
       "      <td>rajulalgola2016@gmail.com</td>\n",
       "      <td>225.0</td>\n",
       "    </tr>\n",
       "    <tr>\n",
       "      <th>4</th>\n",
       "      <td>VX8ck826</td>\n",
       "      <td>Prajnan Subscription</td>\n",
       "      <td>THE LIBRARIAN  IIBF</td>\n",
       "      <td>7.488153e+09</td>\n",
       "      <td>je.trg1@iibf.org.in</td>\n",
       "      <td>300.0</td>\n",
       "    </tr>\n",
       "    <tr>\n",
       "      <th>5</th>\n",
       "      <td>j67R80gc</td>\n",
       "      <td>NaN</td>\n",
       "      <td>NaN</td>\n",
       "      <td>NaN</td>\n",
       "      <td>NaN</td>\n",
       "      <td>NaN</td>\n",
       "    </tr>\n",
       "    <tr>\n",
       "      <th>6</th>\n",
       "      <td>X70M58Yn</td>\n",
       "      <td>Vinimaya Subscription</td>\n",
       "      <td>Uday K</td>\n",
       "      <td>7.276150e+09</td>\n",
       "      <td>admin@admin.com</td>\n",
       "      <td>100.0</td>\n",
       "    </tr>\n",
       "    <tr>\n",
       "      <th>7</th>\n",
       "      <td>6vJ96n3c</td>\n",
       "      <td>Vinimaya Subscription</td>\n",
       "      <td>Uday K</td>\n",
       "      <td>7.276150e+09</td>\n",
       "      <td>admin@admin.com</td>\n",
       "      <td>225.0</td>\n",
       "    </tr>\n",
       "    <tr>\n",
       "      <th>8</th>\n",
       "      <td>9cH01aK8</td>\n",
       "      <td>Prajnan Subscription</td>\n",
       "      <td>Uday K</td>\n",
       "      <td>7.276150e+09</td>\n",
       "      <td>admin@admin.com</td>\n",
       "      <td>300.0</td>\n",
       "    </tr>\n",
       "    <tr>\n",
       "      <th>9</th>\n",
       "      <td>3eSiG474</td>\n",
       "      <td>Vinimaya Subscription</td>\n",
       "      <td>Rajiv Kumar Bansal</td>\n",
       "      <td>9.650254e+09</td>\n",
       "      <td>kumarbansal69@gmail.com</td>\n",
       "      <td>100.0</td>\n",
       "    </tr>\n",
       "  </tbody>\n",
       "</table>\n",
       "</div>"
      ],
      "text/plain": [
       "      txnid            productinfo               firstname         phone  \\\n",
       "0  5Bm45J7x   Prajnan Subscription              Prema Jedy  9.740355e+09   \n",
       "1  g43D02jB  Vinimaya Subscription          Harpreet Kohli  9.872156e+09   \n",
       "2  Y2hH33q0   Prajnan Subscription  SUPRIYA KUMAR MAJUMDAR  6.207337e+09   \n",
       "3  k49tE75T  Vinimaya Subscription             RAJU SARKAR  8.250796e+09   \n",
       "4  VX8ck826   Prajnan Subscription     THE LIBRARIAN  IIBF  7.488153e+09   \n",
       "5  j67R80gc                    NaN                     NaN           NaN   \n",
       "6  X70M58Yn  Vinimaya Subscription                  Uday K  7.276150e+09   \n",
       "7  6vJ96n3c  Vinimaya Subscription                  Uday K  7.276150e+09   \n",
       "8  9cH01aK8   Prajnan Subscription                  Uday K  7.276150e+09   \n",
       "9  3eSiG474  Vinimaya Subscription      Rajiv Kumar Bansal  9.650254e+09   \n",
       "\n",
       "                            email  amount  \n",
       "0            prema.jedy@gmail.com   300.0  \n",
       "1  harpreet_kohli2007@yahoo.co.in   550.0  \n",
       "2               skm9470@gmail.com   550.0  \n",
       "3       rajulalgola2016@gmail.com   225.0  \n",
       "4             je.trg1@iibf.org.in   300.0  \n",
       "5                             NaN     NaN  \n",
       "6                 admin@admin.com   100.0  \n",
       "7                 admin@admin.com   225.0  \n",
       "8                 admin@admin.com   300.0  \n",
       "9         kumarbansal69@gmail.com   100.0  "
      ]
     },
     "execution_count": 16,
     "metadata": {},
     "output_type": "execute_result"
    }
   ],
   "source": [
    "df"
   ]
  },
  {
   "cell_type": "code",
   "execution_count": 8,
   "id": "c0591372",
   "metadata": {},
   "outputs": [],
   "source": [
    "from pyspark.sql import SparkSession"
   ]
  },
  {
   "cell_type": "code",
   "execution_count": 10,
   "id": "e53ff389",
   "metadata": {},
   "outputs": [],
   "source": [
    "spark = SparkSession.builder.appName('Practice').getOrCreate()"
   ]
  },
  {
   "cell_type": "code",
   "execution_count": 11,
   "id": "ae522c2c",
   "metadata": {},
   "outputs": [
    {
     "data": {
      "text/html": [
       "\n",
       "            <div>\n",
       "                <p><b>SparkSession - in-memory</b></p>\n",
       "                \n",
       "        <div>\n",
       "            <p><b>SparkContext</b></p>\n",
       "\n",
       "            <p><a href=\"http://srvmedia:4040\">Spark UI</a></p>\n",
       "\n",
       "            <dl>\n",
       "              <dt>Version</dt>\n",
       "                <dd><code>v3.3.0</code></dd>\n",
       "              <dt>Master</dt>\n",
       "                <dd><code>local[*]</code></dd>\n",
       "              <dt>AppName</dt>\n",
       "                <dd><code>Practice</code></dd>\n",
       "            </dl>\n",
       "        </div>\n",
       "        \n",
       "            </div>\n",
       "        "
      ],
      "text/plain": [
       "<pyspark.sql.session.SparkSession at 0x7fc6e9c6d310>"
      ]
     },
     "execution_count": 11,
     "metadata": {},
     "output_type": "execute_result"
    }
   ],
   "source": [
    "spark"
   ]
  },
  {
   "cell_type": "code",
   "execution_count": 17,
   "id": "9fb886fc",
   "metadata": {},
   "outputs": [],
   "source": [
    "df_pyspark =spark.read.csv('test.csv')"
   ]
  },
  {
   "cell_type": "code",
   "execution_count": 18,
   "id": "3b692e67",
   "metadata": {},
   "outputs": [
    {
     "data": {
      "text/plain": [
       "DataFrame[_c0: string, _c1: string, _c2: string, _c3: string, _c4: string, _c5: string]"
      ]
     },
     "execution_count": 18,
     "metadata": {},
     "output_type": "execute_result"
    }
   ],
   "source": [
    "df_pyspark"
   ]
  },
  {
   "cell_type": "code",
   "execution_count": 14,
   "id": "1f830bb9",
   "metadata": {},
   "outputs": [
    {
     "name": "stdout",
     "output_type": "stream",
     "text": [
      "22/08/02 12:23:40 WARN package: Truncated the string representation of a plan since it was too large. This behavior can be adjusted by setting 'spark.sql.debug.maxToStringFields'.\n",
      "+---+--------+--------------------+--------------------+----------+--------------------+------+--------------------+--------------------+--------------------+--------------------+-------------+--------------+---------------+--------------------+--------------------+--------+-----------+-----+-------+-------+----+----+----+----+----+-----+----+----+----+\n",
      "|_c0|     _c1|                 _c2|                 _c3|       _c4|                 _c5|   _c6|                 _c7|                 _c8|                 _c9|                _c10|         _c11|          _c12|           _c13|                _c14|                _c15|    _c16|       _c17| _c18|   _c19|   _c20|_c21|_c22|_c23|_c24|_c25| _c26|_c27|_c28|_c29|\n",
      "+---+--------+--------------------+--------------------+----------+--------------------+------+--------------------+--------------------+--------------------+--------------------+-------------+--------------+---------------+--------------------+--------------------+--------+-----------+-----+-------+-------+----+----+----+----+----+-----+----+----+----+\n",
      "| ID|   txnid|         productinfo|           firstname|     phone|               email|amount|    net amount debit|          paymentFor|    subscriptionType|         designation| organization|payment status|transactionDate|     transactionTime|            address1|address2|       city|state|country|zipcode|udf5|udf6|udf7|udf8|udf9|udf10|surl|furl|hash|\n",
      "| 21|5Bm45J7x|Prajnan Subscription|          Prema Jedy|9740355404|prema.jedy@gmail.com|   300|      Asst.professor|Government First ...|Prajnan subscript...|Individual Subscr...|      success|    2022-05-16|       09:04:09|                null|                null|    null|       null| null|   null|   null|null|null|null|null|null| null|null|null|null|\n",
      "| 22|g43D02jB|Vinimaya Subscrip...|      Harpreet Kohli|9872156142|harpreet_kohli200...|   550| Assistant professor|Punjabi Universit...|Vinimaya Subscrip...|Individual Subscr...|      success|    2022-05-17|       13:09:10|                null|                null|    null|       null| null|   null|   null|null|null|null|null|null| null|null|null|null|\n",
      "| 27|Y2hH33q0|Prajnan Subscription|SUPRIYA KUMAR MAJ...|6207336743|   skm9470@gmail.com|   550|Prajnan subscript...|Individual Subscr...|         PhD Scholar|BHARAT COAKING CO...|      success|    2022-06-02|       09:22:39|C/O LT P N MAJUMD...|MANAGER FINANCE M...| DHANBAD|  JHARKHAND|India| 826001|   null|null|null|null|null|null| null|null|null|null|\n",
      "| 28|k49tE75T|Vinimaya Subscrip...|         RAJU SARKAR|8250796058|rajulalgola2016@g...|   225|Vinimaya Subscrip...|Individual Subscr...|   Assistant manager|Central bank of I...|      pending|    2022-06-02|       13:13:20|FLAT NO C/2/3 VRI...|Chotonilpur itbha...| BURDWAN| WESTBENGAL|India| 713103|   null|null|null|null|null|null| null|null|null|null|\n",
      "| 29|VX8ck826|Prajnan Subscription| THE LIBRARIAN  IIBF|7488152733| je.trg1@iibf.org.in|   300|Prajnan subscript...|             Library|       THE LIBRARIAN|INDIAN INSTITUTE ...|      success|    2022-06-08|       05:42:58|Kohinoor City Com...| Kirol Road, Off-...|  MUMBAI|MAHARASHTRA|INDIA| 400070|   null|null|null|null|null|null| null|null|null|null|\n",
      "| 32|j67R80gc|                null|                null|      null|                null|  null|                null|                null|                null|                null|         null|          null|           null|   pune padamaj park|           address22|    Pune| Maharshtra|India| 411046|   null|null|null|null|null|null| null|null|null|null|\n",
      "| 33|X70M58Yn|Vinimaya Subscrip...|              Uday K|7276150233|     admin@admin.com|   100|Vinimaya Subscrip...|Individual Subscr...|            employee|                NIBM|userCancelled|    2022-06-10|       08:29:55|   pune padamaj park|           address22|    Pune| Maharshtra|India| 411046|   null|null|null|null|null|null| null|null|null|null|\n",
      "| 34|6vJ96n3c|Vinimaya Subscrip...|              Uday K|7276150233|     admin@admin.com|   225|Vinimaya Subscrip...|Individual Subscr...|            employee|                NIBM|userCancelled|    2022-06-10|       08:34:39|   pune padamaj park|           address22|    Pune| Maharshtra|India| 411046|   null|null|null|null|null|null| null|null|null|null|\n",
      "| 35|9cH01aK8|Prajnan Subscription|              Uday K|7276150233|     admin@admin.com|   300|Prajnan subscript...|Individual Subscr...|            employee|           SRV Media|userCancelled|    2022-06-10|       08:57:27|   pune padamaj park|           address22|    Pune| Maharshtra|India| 411046|   null|null|null|null|null|null| null|null|null|null|\n",
      "| 36|3eSiG474|Vinimaya Subscrip...|  Rajiv Kumar Bansal|9650253600|kumarbansal69@gma...|   100|Vinimaya Subscrip...|Individual Subscr...|Deputy General Ma...|  Punjab & Sind Bank|      success|    2022-06-10|       06:45:00|                null|                null|    null|       null| null|   null|   null|null|null|null|null|null| null|null|null|null|\n",
      "+---+--------+--------------------+--------------------+----------+--------------------+------+--------------------+--------------------+--------------------+--------------------+-------------+--------------+---------------+--------------------+--------------------+--------+-----------+-----+-------+-------+----+----+----+----+----+-----+----+----+----+\n",
      "\n"
     ]
    }
   ],
   "source": [
    "df_pyspark.show()"
   ]
  },
  {
   "cell_type": "code",
   "execution_count": 21,
   "id": "2f3f5541",
   "metadata": {},
   "outputs": [],
   "source": [
    "df_spark_new = spark.read.option('HEADER','true').csv('test.csv')"
   ]
  },
  {
   "cell_type": "code",
   "execution_count": 24,
   "id": "556d4712",
   "metadata": {},
   "outputs": [
    {
     "name": "stdout",
     "output_type": "stream",
     "text": [
      "+--------+--------------------+--------------------+----------+--------------------+------+\n",
      "|   txnid|         productinfo|           firstname|     phone|               email|amount|\n",
      "+--------+--------------------+--------------------+----------+--------------------+------+\n",
      "|5Bm45J7x|Prajnan Subscription|          Prema Jedy|9740355404|prema.jedy@gmail.com|   300|\n",
      "|g43D02jB|Vinimaya Subscrip...|      Harpreet Kohli|9872156142|harpreet_kohli200...|   550|\n",
      "|Y2hH33q0|Prajnan Subscription|SUPRIYA KUMAR MAJ...|6207336743|   skm9470@gmail.com|   550|\n",
      "|k49tE75T|Vinimaya Subscrip...|         RAJU SARKAR|8250796058|rajulalgola2016@g...|   225|\n",
      "|VX8ck826|Prajnan Subscription| THE LIBRARIAN  IIBF|7488152733| je.trg1@iibf.org.in|   300|\n",
      "|j67R80gc|                null|                null|      null|                null|  null|\n",
      "|X70M58Yn|Vinimaya Subscrip...|              Uday K|7276150233|     admin@admin.com|   100|\n",
      "|6vJ96n3c|Vinimaya Subscrip...|              Uday K|7276150233|     admin@admin.com|   225|\n",
      "|9cH01aK8|Prajnan Subscription|              Uday K|7276150233|     admin@admin.com|   300|\n",
      "|3eSiG474|Vinimaya Subscrip...|  Rajiv Kumar Bansal|9650253600|kumarbansal69@gma...|   100|\n",
      "+--------+--------------------+--------------------+----------+--------------------+------+\n",
      "\n"
     ]
    }
   ],
   "source": [
    "df_spark_new.show()"
   ]
  },
  {
   "cell_type": "code",
   "execution_count": 25,
   "id": "59245819",
   "metadata": {},
   "outputs": [
    {
     "name": "stdout",
     "output_type": "stream",
     "text": [
      "root\n",
      " |-- txnid: string (nullable = true)\n",
      " |-- productinfo: string (nullable = true)\n",
      " |-- firstname: string (nullable = true)\n",
      " |-- phone: string (nullable = true)\n",
      " |-- email: string (nullable = true)\n",
      " |-- amount: string (nullable = true)\n",
      "\n"
     ]
    }
   ],
   "source": [
    "df_spark_new.printSchema()"
   ]
  },
  {
   "cell_type": "code",
   "execution_count": null,
   "id": "25880979",
   "metadata": {},
   "outputs": [],
   "source": []
  }
 ],
 "metadata": {
  "kernelspec": {
   "display_name": "Python 3 (ipykernel)",
   "language": "python",
   "name": "python3"
  },
  "language_info": {
   "codemirror_mode": {
    "name": "ipython",
    "version": 3
   },
   "file_extension": ".py",
   "mimetype": "text/x-python",
   "name": "python",
   "nbconvert_exporter": "python",
   "pygments_lexer": "ipython3",
   "version": "3.8.10"
  }
 },
 "nbformat": 4,
 "nbformat_minor": 5
}
