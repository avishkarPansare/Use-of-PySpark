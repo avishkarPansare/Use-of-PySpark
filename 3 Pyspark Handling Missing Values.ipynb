{
 "cells": [
  {
   "cell_type": "markdown",
   "id": "c436be60",
   "metadata": {},
   "source": [
    "# Pyspark Handling Missing Values\n",
    "Dropping Columns\n",
    "\n",
    "Dropping Rows\n",
    "\n",
    "Various Parameter In Dropping functionalities\n",
    "\n",
    "Handling Missing values by Mean, MEdian And Mode"
   ]
  },
  {
   "cell_type": "code",
   "execution_count": 1,
   "id": "52606a44",
   "metadata": {},
   "outputs": [
    {
     "name": "stderr",
     "output_type": "stream",
     "text": [
      "Setting default log level to \"WARN\".\n",
      "To adjust logging level use sc.setLogLevel(newLevel). For SparkR, use setLogLevel(newLevel).\n"
     ]
    },
    {
     "name": "stdout",
     "output_type": "stream",
     "text": [
      "22/08/02 15:34:00 WARN NativeCodeLoader: Unable to load native-hadoop library for your platform... using builtin-java classes where applicable\n",
      "22/08/02 15:34:00 WARN Utils: Service 'SparkUI' could not bind on port 4040. Attempting port 4041.\n",
      "22/08/02 15:34:00 WARN Utils: Service 'SparkUI' could not bind on port 4041. Attempting port 4042.\n"
     ]
    }
   ],
   "source": [
    "from pyspark.sql import SparkSession\n",
    "spark=SparkSession.builder.appName('Practise').getOrCreate()"
   ]
  },
  {
   "cell_type": "code",
   "execution_count": 3,
   "id": "43ff7083",
   "metadata": {},
   "outputs": [],
   "source": [
    "df=spark.read.csv('test.csv',header=True,inferSchema=True)"
   ]
  },
  {
   "cell_type": "code",
   "execution_count": 4,
   "id": "7bf792a2",
   "metadata": {},
   "outputs": [
    {
     "name": "stdout",
     "output_type": "stream",
     "text": [
      "+--------------------+--------------------+----------+--------------------+------+\n",
      "|         productinfo|           firstname|     phone|               email|amount|\n",
      "+--------------------+--------------------+----------+--------------------+------+\n",
      "|Prajnan Subscription|          Prema Jedy|9740355404|prema.jedy@gmail.com|   300|\n",
      "|Vinimaya Subscrip...|      Harpreet Kohli|9872156142|harpreet_kohli200...|   550|\n",
      "|Prajnan Subscription|SUPRIYA KUMAR MAJ...|6207336743|   skm9470@gmail.com|   550|\n",
      "|Vinimaya Subscrip...|         RAJU SARKAR|8250796058|rajulalgola2016@g...|   225|\n",
      "|Prajnan Subscription| THE LIBRARIAN  IIBF|7488152733| je.trg1@iibf.org.in|   300|\n",
      "|                null|                null|      null|                null|  null|\n",
      "|Vinimaya Subscrip...|              Uday K|7276150233|     admin@admin.com|   100|\n",
      "|Vinimaya Subscrip...|              Uday K|7276150233|     admin@admin.com|   225|\n",
      "|Prajnan Subscription|              Uday K|7276150233|     admin@admin.com|   300|\n",
      "|Vinimaya Subscrip...|  Rajiv Kumar Bansal|9650253600|kumarbansal69@gma...|   100|\n",
      "+--------------------+--------------------+----------+--------------------+------+\n",
      "\n"
     ]
    }
   ],
   "source": [
    "df.show()"
   ]
  },
  {
   "cell_type": "code",
   "execution_count": 5,
   "id": "117b2285",
   "metadata": {},
   "outputs": [],
   "source": [
    "### Drop The column \n",
    "df=df.drop('phone')"
   ]
  },
  {
   "cell_type": "code",
   "execution_count": 6,
   "id": "84bd1583",
   "metadata": {},
   "outputs": [
    {
     "name": "stdout",
     "output_type": "stream",
     "text": [
      "+--------------------+--------------------+--------------------+------+\n",
      "|         productinfo|           firstname|               email|amount|\n",
      "+--------------------+--------------------+--------------------+------+\n",
      "|Prajnan Subscription|          Prema Jedy|prema.jedy@gmail.com|   300|\n",
      "|Vinimaya Subscrip...|      Harpreet Kohli|harpreet_kohli200...|   550|\n",
      "|Prajnan Subscription|SUPRIYA KUMAR MAJ...|   skm9470@gmail.com|   550|\n",
      "|Vinimaya Subscrip...|         RAJU SARKAR|rajulalgola2016@g...|   225|\n",
      "|Prajnan Subscription| THE LIBRARIAN  IIBF| je.trg1@iibf.org.in|   300|\n",
      "|                null|                null|                null|  null|\n",
      "|Vinimaya Subscrip...|              Uday K|     admin@admin.com|   100|\n",
      "|Vinimaya Subscrip...|              Uday K|     admin@admin.com|   225|\n",
      "|Prajnan Subscription|              Uday K|     admin@admin.com|   300|\n",
      "|Vinimaya Subscrip...|  Rajiv Kumar Bansal|kumarbansal69@gma...|   100|\n",
      "+--------------------+--------------------+--------------------+------+\n",
      "\n"
     ]
    }
   ],
   "source": [
    "df.show()"
   ]
  },
  {
   "cell_type": "code",
   "execution_count": 7,
   "id": "76dc851c",
   "metadata": {},
   "outputs": [
    {
     "name": "stdout",
     "output_type": "stream",
     "text": [
      "+--------------------+--------------------+--------------------+------+\n",
      "|         productinfo|           firstname|               email|amount|\n",
      "+--------------------+--------------------+--------------------+------+\n",
      "|Prajnan Subscription|          Prema Jedy|prema.jedy@gmail.com|   300|\n",
      "|Vinimaya Subscrip...|      Harpreet Kohli|harpreet_kohli200...|   550|\n",
      "|Prajnan Subscription|SUPRIYA KUMAR MAJ...|   skm9470@gmail.com|   550|\n",
      "|Vinimaya Subscrip...|         RAJU SARKAR|rajulalgola2016@g...|   225|\n",
      "|Prajnan Subscription| THE LIBRARIAN  IIBF| je.trg1@iibf.org.in|   300|\n",
      "|Vinimaya Subscrip...|              Uday K|     admin@admin.com|   100|\n",
      "|Vinimaya Subscrip...|              Uday K|     admin@admin.com|   225|\n",
      "|Prajnan Subscription|              Uday K|     admin@admin.com|   300|\n",
      "|Vinimaya Subscrip...|  Rajiv Kumar Bansal|kumarbansal69@gma...|   100|\n",
      "+--------------------+--------------------+--------------------+------+\n",
      "\n"
     ]
    }
   ],
   "source": [
    "df.na.drop().show()"
   ]
  },
  {
   "cell_type": "code",
   "execution_count": 8,
   "id": "3baaebd0",
   "metadata": {},
   "outputs": [
    {
     "name": "stdout",
     "output_type": "stream",
     "text": [
      "+--------------------+--------------------+--------------------+------+\n",
      "|         productinfo|           firstname|               email|amount|\n",
      "+--------------------+--------------------+--------------------+------+\n",
      "|Prajnan Subscription|          Prema Jedy|prema.jedy@gmail.com|   300|\n",
      "|Vinimaya Subscrip...|      Harpreet Kohli|harpreet_kohli200...|   550|\n",
      "|Prajnan Subscription|SUPRIYA KUMAR MAJ...|   skm9470@gmail.com|   550|\n",
      "|Vinimaya Subscrip...|         RAJU SARKAR|rajulalgola2016@g...|   225|\n",
      "|Prajnan Subscription| THE LIBRARIAN  IIBF| je.trg1@iibf.org.in|   300|\n",
      "|Vinimaya Subscrip...|              Uday K|     admin@admin.com|   100|\n",
      "|Vinimaya Subscrip...|              Uday K|     admin@admin.com|   225|\n",
      "|Prajnan Subscription|              Uday K|     admin@admin.com|   300|\n",
      "|Vinimaya Subscrip...|  Rajiv Kumar Bansal|kumarbansal69@gma...|   100|\n",
      "+--------------------+--------------------+--------------------+------+\n",
      "\n"
     ]
    }
   ],
   "source": [
    "df.na.drop(how='all').show() # complete row is null"
   ]
  },
  {
   "cell_type": "code",
   "execution_count": 9,
   "id": "ad6c02bd",
   "metadata": {},
   "outputs": [
    {
     "name": "stdout",
     "output_type": "stream",
     "text": [
      "+--------------------+--------------------+--------------------+------+\n",
      "|         productinfo|           firstname|               email|amount|\n",
      "+--------------------+--------------------+--------------------+------+\n",
      "|Prajnan Subscription|          Prema Jedy|prema.jedy@gmail.com|   300|\n",
      "|Vinimaya Subscrip...|      Harpreet Kohli|harpreet_kohli200...|   550|\n",
      "|Prajnan Subscription|SUPRIYA KUMAR MAJ...|   skm9470@gmail.com|   550|\n",
      "|Vinimaya Subscrip...|         RAJU SARKAR|rajulalgola2016@g...|   225|\n",
      "|Prajnan Subscription| THE LIBRARIAN  IIBF| je.trg1@iibf.org.in|   300|\n",
      "|Vinimaya Subscrip...|              Uday K|     admin@admin.com|   100|\n",
      "|Vinimaya Subscrip...|              Uday K|     admin@admin.com|   225|\n",
      "|Prajnan Subscription|              Uday K|     admin@admin.com|   300|\n",
      "|Vinimaya Subscrip...|  Rajiv Kumar Bansal|kumarbansal69@gma...|   100|\n",
      "+--------------------+--------------------+--------------------+------+\n",
      "\n"
     ]
    }
   ],
   "source": [
    "df.na.drop(how='any').show()"
   ]
  },
  {
   "cell_type": "code",
   "execution_count": 11,
   "id": "0677f64e",
   "metadata": {},
   "outputs": [
    {
     "name": "stdout",
     "output_type": "stream",
     "text": [
      "+--------------------+--------------------+--------------------+------+\n",
      "|         productinfo|           firstname|               email|amount|\n",
      "+--------------------+--------------------+--------------------+------+\n",
      "|Prajnan Subscription|          Prema Jedy|prema.jedy@gmail.com|   300|\n",
      "|Vinimaya Subscrip...|      Harpreet Kohli|harpreet_kohli200...|   550|\n",
      "|Prajnan Subscription|SUPRIYA KUMAR MAJ...|   skm9470@gmail.com|   550|\n",
      "|Vinimaya Subscrip...|         RAJU SARKAR|rajulalgola2016@g...|   225|\n",
      "|Prajnan Subscription| THE LIBRARIAN  IIBF| je.trg1@iibf.org.in|   300|\n",
      "|Vinimaya Subscrip...|              Uday K|     admin@admin.com|   100|\n",
      "|Vinimaya Subscrip...|              Uday K|     admin@admin.com|   225|\n",
      "|Prajnan Subscription|              Uday K|     admin@admin.com|   300|\n",
      "|Vinimaya Subscrip...|  Rajiv Kumar Bansal|kumarbansal69@gma...|   100|\n",
      "+--------------------+--------------------+--------------------+------+\n",
      "\n"
     ]
    }
   ],
   "source": [
    "df.na.drop(how='any' , thresh= 2).show() # At leaset 2 null value in complete row"
   ]
  },
  {
   "cell_type": "code",
   "execution_count": 12,
   "id": "a5882af5",
   "metadata": {},
   "outputs": [],
   "source": [
    "## Subset"
   ]
  },
  {
   "cell_type": "code",
   "execution_count": 14,
   "id": "1f0dfa2c",
   "metadata": {},
   "outputs": [
    {
     "name": "stdout",
     "output_type": "stream",
     "text": [
      "+--------------------+--------------------+--------------------+------+\n",
      "|         productinfo|           firstname|               email|amount|\n",
      "+--------------------+--------------------+--------------------+------+\n",
      "|Prajnan Subscription|          Prema Jedy|prema.jedy@gmail.com|   300|\n",
      "|Vinimaya Subscrip...|      Harpreet Kohli|harpreet_kohli200...|   550|\n",
      "|Prajnan Subscription|SUPRIYA KUMAR MAJ...|   skm9470@gmail.com|   550|\n",
      "|Vinimaya Subscrip...|         RAJU SARKAR|rajulalgola2016@g...|   225|\n",
      "|Prajnan Subscription| THE LIBRARIAN  IIBF| je.trg1@iibf.org.in|   300|\n",
      "|Vinimaya Subscrip...|              Uday K|     admin@admin.com|   100|\n",
      "|Vinimaya Subscrip...|              Uday K|     admin@admin.com|   225|\n",
      "|Prajnan Subscription|              Uday K|     admin@admin.com|   300|\n",
      "|Vinimaya Subscrip...|  Rajiv Kumar Bansal|kumarbansal69@gma...|   100|\n",
      "+--------------------+--------------------+--------------------+------+\n",
      "\n"
     ]
    }
   ],
   "source": [
    "df.na.drop(how='any' ,subset=['amount']).show()"
   ]
  },
  {
   "cell_type": "code",
   "execution_count": 15,
   "id": "9af268da",
   "metadata": {},
   "outputs": [],
   "source": [
    "## Filling the missing value"
   ]
  },
  {
   "cell_type": "code",
   "execution_count": 18,
   "id": "178ffd44",
   "metadata": {},
   "outputs": [
    {
     "name": "stdout",
     "output_type": "stream",
     "text": [
      "+--------------------+--------------------+--------------------+------+\n",
      "|         productinfo|           firstname|               email|amount|\n",
      "+--------------------+--------------------+--------------------+------+\n",
      "|Prajnan Subscription|          Prema Jedy|prema.jedy@gmail.com|   300|\n",
      "|Vinimaya Subscrip...|      Harpreet Kohli|harpreet_kohli200...|   550|\n",
      "|Prajnan Subscription|SUPRIYA KUMAR MAJ...|   skm9470@gmail.com|   550|\n",
      "|Vinimaya Subscrip...|         RAJU SARKAR|rajulalgola2016@g...|   225|\n",
      "|Prajnan Subscription| THE LIBRARIAN  IIBF| je.trg1@iibf.org.in|   300|\n",
      "|       Missing Value|       Missing Value|       Missing Value|  null|\n",
      "|Vinimaya Subscrip...|              Uday K|     admin@admin.com|   100|\n",
      "|Vinimaya Subscrip...|              Uday K|     admin@admin.com|   225|\n",
      "|Prajnan Subscription|              Uday K|     admin@admin.com|   300|\n",
      "|Vinimaya Subscrip...|  Rajiv Kumar Bansal|kumarbansal69@gma...|   100|\n",
      "+--------------------+--------------------+--------------------+------+\n",
      "\n"
     ]
    }
   ],
   "source": [
    "df.na.fill(\"Missing Value\",[\"firstname\",\"productinfo\",\"email\"]).show()"
   ]
  },
  {
   "cell_type": "code",
   "execution_count": 19,
   "id": "e9941672",
   "metadata": {},
   "outputs": [],
   "source": [
    "from pyspark.ml.feature import Imputer"
   ]
  },
  {
   "cell_type": "code",
   "execution_count": 20,
   "id": "3304310d",
   "metadata": {},
   "outputs": [],
   "source": [
    "imputer = Imputer(\n",
    "    inputCols=['amount'], \n",
    "    outputCols=[\"{}_imputed\".format(c) for c in ['amount']]\n",
    "    ).setStrategy(\"median\")"
   ]
  },
  {
   "cell_type": "code",
   "execution_count": 21,
   "id": "4bcd07f3",
   "metadata": {},
   "outputs": [
    {
     "name": "stdout",
     "output_type": "stream",
     "text": [
      "+--------------------+--------------------+--------------------+------+--------------+\n",
      "|         productinfo|           firstname|               email|amount|amount_imputed|\n",
      "+--------------------+--------------------+--------------------+------+--------------+\n",
      "|Prajnan Subscription|          Prema Jedy|prema.jedy@gmail.com|   300|           300|\n",
      "|Vinimaya Subscrip...|      Harpreet Kohli|harpreet_kohli200...|   550|           550|\n",
      "|Prajnan Subscription|SUPRIYA KUMAR MAJ...|   skm9470@gmail.com|   550|           550|\n",
      "|Vinimaya Subscrip...|         RAJU SARKAR|rajulalgola2016@g...|   225|           225|\n",
      "|Prajnan Subscription| THE LIBRARIAN  IIBF| je.trg1@iibf.org.in|   300|           300|\n",
      "|                null|                null|                null|  null|           300|\n",
      "|Vinimaya Subscrip...|              Uday K|     admin@admin.com|   100|           100|\n",
      "|Vinimaya Subscrip...|              Uday K|     admin@admin.com|   225|           225|\n",
      "|Prajnan Subscription|              Uday K|     admin@admin.com|   300|           300|\n",
      "|Vinimaya Subscrip...|  Rajiv Kumar Bansal|kumarbansal69@gma...|   100|           100|\n",
      "+--------------------+--------------------+--------------------+------+--------------+\n",
      "\n"
     ]
    }
   ],
   "source": [
    "imputer.fit(df).transform(df).show()"
   ]
  },
  {
   "cell_type": "code",
   "execution_count": null,
   "id": "d4928ee1",
   "metadata": {},
   "outputs": [],
   "source": []
  }
 ],
 "metadata": {
  "kernelspec": {
   "display_name": "Python 3 (ipykernel)",
   "language": "python",
   "name": "python3"
  },
  "language_info": {
   "codemirror_mode": {
    "name": "ipython",
    "version": 3
   },
   "file_extension": ".py",
   "mimetype": "text/x-python",
   "name": "python",
   "nbconvert_exporter": "python",
   "pygments_lexer": "ipython3",
   "version": "3.8.10"
  }
 },
 "nbformat": 4,
 "nbformat_minor": 5
}
