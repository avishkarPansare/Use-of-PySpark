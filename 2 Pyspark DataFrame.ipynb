{
 "cells": [
  {
   "cell_type": "code",
   "execution_count": 1,
   "id": "8198a211",
   "metadata": {},
   "outputs": [],
   "source": [
    "import pyspark"
   ]
  },
  {
   "cell_type": "markdown",
   "id": "3ffcf3f4",
   "metadata": {},
   "source": [
    "# In this Video We will Cover\n",
    "PySpark Dataframe\n",
    "\n",
    "Reading The Dataset\n",
    "\n",
    "Checking the Datatypes of the Column(Schema)\n",
    "\n",
    "Selecting Columns And Indexing\n",
    "\n",
    "Check Describe option similar to Pandas\n",
    "\n",
    "Adding Columns\n",
    "\n",
    "Dropping columns\n",
    "\n",
    "Renaming Columns\n"
   ]
  },
  {
   "cell_type": "code",
   "execution_count": 2,
   "id": "f8202b1b",
   "metadata": {},
   "outputs": [
    {
     "name": "stderr",
     "output_type": "stream",
     "text": [
      "Setting default log level to \"WARN\".\n",
      "To adjust logging level use sc.setLogLevel(newLevel). For SparkR, use setLogLevel(newLevel).\n"
     ]
    },
    {
     "name": "stdout",
     "output_type": "stream",
     "text": [
      "22/08/02 12:50:49 WARN NativeCodeLoader: Unable to load native-hadoop library for your platform... using builtin-java classes where applicable\n",
      "22/08/02 12:50:50 WARN Utils: Service 'SparkUI' could not bind on port 4040. Attempting port 4041.\n"
     ]
    }
   ],
   "source": [
    "from pyspark.sql import SparkSession\n",
    "spark = SparkSession.builder.appName('Practice').getOrCreate()"
   ]
  },
  {
   "cell_type": "code",
   "execution_count": 3,
   "id": "304e64bd",
   "metadata": {},
   "outputs": [
    {
     "data": {
      "text/html": [
       "\n",
       "            <div>\n",
       "                <p><b>SparkSession - in-memory</b></p>\n",
       "                \n",
       "        <div>\n",
       "            <p><b>SparkContext</b></p>\n",
       "\n",
       "            <p><a href=\"http://srvmedia:4041\">Spark UI</a></p>\n",
       "\n",
       "            <dl>\n",
       "              <dt>Version</dt>\n",
       "                <dd><code>v3.3.0</code></dd>\n",
       "              <dt>Master</dt>\n",
       "                <dd><code>local[*]</code></dd>\n",
       "              <dt>AppName</dt>\n",
       "                <dd><code>Practice</code></dd>\n",
       "            </dl>\n",
       "        </div>\n",
       "        \n",
       "            </div>\n",
       "        "
      ],
      "text/plain": [
       "<pyspark.sql.session.SparkSession at 0x7f7d57fcf340>"
      ]
     },
     "execution_count": 3,
     "metadata": {},
     "output_type": "execute_result"
    }
   ],
   "source": [
    "spark"
   ]
  },
  {
   "cell_type": "code",
   "execution_count": 4,
   "id": "69597031",
   "metadata": {},
   "outputs": [],
   "source": [
    "df = spark.read.option('HEADER','true').csv('test.csv')"
   ]
  },
  {
   "cell_type": "code",
   "execution_count": 5,
   "id": "e4b49ae5",
   "metadata": {},
   "outputs": [],
   "source": [
    "df = spark.read.option('HEADER','true').csv('test.csv',inferSchema=True)"
   ]
  },
  {
   "cell_type": "code",
   "execution_count": 6,
   "id": "4421bc7c",
   "metadata": {},
   "outputs": [
    {
     "data": {
      "text/plain": [
       "DataFrame[productinfo: string, firstname: string, phone: bigint, email: string, amount: int]"
      ]
     },
     "execution_count": 6,
     "metadata": {},
     "output_type": "execute_result"
    }
   ],
   "source": [
    "df"
   ]
  },
  {
   "cell_type": "code",
   "execution_count": 7,
   "id": "cea100cf",
   "metadata": {},
   "outputs": [
    {
     "name": "stdout",
     "output_type": "stream",
     "text": [
      "+--------------------+--------------------+----------+--------------------+------+\n",
      "|         productinfo|           firstname|     phone|               email|amount|\n",
      "+--------------------+--------------------+----------+--------------------+------+\n",
      "|Prajnan Subscription|          Prema Jedy|9740355404|prema.jedy@gmail.com|   300|\n",
      "|Vinimaya Subscrip...|      Harpreet Kohli|9872156142|harpreet_kohli200...|   550|\n",
      "|Prajnan Subscription|SUPRIYA KUMAR MAJ...|6207336743|   skm9470@gmail.com|   550|\n",
      "|Vinimaya Subscrip...|         RAJU SARKAR|8250796058|rajulalgola2016@g...|   225|\n",
      "|Prajnan Subscription| THE LIBRARIAN  IIBF|7488152733| je.trg1@iibf.org.in|   300|\n",
      "|                null|                null|      null|                null|  null|\n",
      "|Vinimaya Subscrip...|              Uday K|7276150233|     admin@admin.com|   100|\n",
      "|Vinimaya Subscrip...|              Uday K|7276150233|     admin@admin.com|   225|\n",
      "|Prajnan Subscription|              Uday K|7276150233|     admin@admin.com|   300|\n",
      "|Vinimaya Subscrip...|  Rajiv Kumar Bansal|9650253600|kumarbansal69@gma...|   100|\n",
      "+--------------------+--------------------+----------+--------------------+------+\n",
      "\n"
     ]
    }
   ],
   "source": [
    "df.show()"
   ]
  },
  {
   "cell_type": "code",
   "execution_count": 8,
   "id": "b4d36355",
   "metadata": {},
   "outputs": [
    {
     "name": "stdout",
     "output_type": "stream",
     "text": [
      "root\n",
      " |-- productinfo: string (nullable = true)\n",
      " |-- firstname: string (nullable = true)\n",
      " |-- phone: long (nullable = true)\n",
      " |-- email: string (nullable = true)\n",
      " |-- amount: integer (nullable = true)\n",
      "\n"
     ]
    }
   ],
   "source": [
    "### Checking the Schema\n",
    "df.printSchema()"
   ]
  },
  {
   "cell_type": "code",
   "execution_count": 9,
   "id": "8841a10d",
   "metadata": {},
   "outputs": [],
   "source": [
    "df_new = spark.read.csv('test.csv',header = True , inferSchema=True)"
   ]
  },
  {
   "cell_type": "code",
   "execution_count": 10,
   "id": "4d8beff3",
   "metadata": {},
   "outputs": [
    {
     "name": "stdout",
     "output_type": "stream",
     "text": [
      "+--------------------+--------------------+----------+--------------------+------+\n",
      "|         productinfo|           firstname|     phone|               email|amount|\n",
      "+--------------------+--------------------+----------+--------------------+------+\n",
      "|Prajnan Subscription|          Prema Jedy|9740355404|prema.jedy@gmail.com|   300|\n",
      "|Vinimaya Subscrip...|      Harpreet Kohli|9872156142|harpreet_kohli200...|   550|\n",
      "|Prajnan Subscription|SUPRIYA KUMAR MAJ...|6207336743|   skm9470@gmail.com|   550|\n",
      "|Vinimaya Subscrip...|         RAJU SARKAR|8250796058|rajulalgola2016@g...|   225|\n",
      "|Prajnan Subscription| THE LIBRARIAN  IIBF|7488152733| je.trg1@iibf.org.in|   300|\n",
      "|                null|                null|      null|                null|  null|\n",
      "|Vinimaya Subscrip...|              Uday K|7276150233|     admin@admin.com|   100|\n",
      "|Vinimaya Subscrip...|              Uday K|7276150233|     admin@admin.com|   225|\n",
      "|Prajnan Subscription|              Uday K|7276150233|     admin@admin.com|   300|\n",
      "|Vinimaya Subscrip...|  Rajiv Kumar Bansal|9650253600|kumarbansal69@gma...|   100|\n",
      "+--------------------+--------------------+----------+--------------------+------+\n",
      "\n"
     ]
    }
   ],
   "source": [
    "df_new.show()"
   ]
  },
  {
   "cell_type": "code",
   "execution_count": 11,
   "id": "b91e56a0",
   "metadata": {},
   "outputs": [
    {
     "name": "stdout",
     "output_type": "stream",
     "text": [
      "root\n",
      " |-- productinfo: string (nullable = true)\n",
      " |-- firstname: string (nullable = true)\n",
      " |-- phone: long (nullable = true)\n",
      " |-- email: string (nullable = true)\n",
      " |-- amount: integer (nullable = true)\n",
      "\n"
     ]
    }
   ],
   "source": [
    "df_new.printSchema()"
   ]
  },
  {
   "cell_type": "code",
   "execution_count": 12,
   "id": "70506cad",
   "metadata": {},
   "outputs": [
    {
     "name": "stdout",
     "output_type": "stream",
     "text": [
      "<class 'pyspark.sql.dataframe.DataFrame'>\n"
     ]
    }
   ],
   "source": [
    "print(type(df_new))"
   ]
  },
  {
   "cell_type": "code",
   "execution_count": 13,
   "id": "d2efb052",
   "metadata": {},
   "outputs": [
    {
     "data": {
      "text/plain": [
       "['productinfo', 'firstname', 'phone', 'email', 'amount']"
      ]
     },
     "execution_count": 13,
     "metadata": {},
     "output_type": "execute_result"
    }
   ],
   "source": [
    "df_new.columns"
   ]
  },
  {
   "cell_type": "code",
   "execution_count": 14,
   "id": "23cfea27",
   "metadata": {},
   "outputs": [
    {
     "data": {
      "text/plain": [
       "[Row(productinfo='Prajnan Subscription', firstname='Prema Jedy', phone=9740355404, email='prema.jedy@gmail.com', amount=300),\n",
       " Row(productinfo='Vinimaya Subscription', firstname='Harpreet Kohli', phone=9872156142, email='harpreet_kohli2007@yahoo.co.in', amount=550)]"
      ]
     },
     "execution_count": 14,
     "metadata": {},
     "output_type": "execute_result"
    }
   ],
   "source": [
    "df_new.head(2)"
   ]
  },
  {
   "cell_type": "code",
   "execution_count": 15,
   "id": "7ef46076",
   "metadata": {},
   "outputs": [],
   "source": [
    "query = df_new.select('productinfo')"
   ]
  },
  {
   "cell_type": "code",
   "execution_count": 16,
   "id": "853e7d21",
   "metadata": {},
   "outputs": [
    {
     "name": "stdout",
     "output_type": "stream",
     "text": [
      "+--------------------+\n",
      "|         productinfo|\n",
      "+--------------------+\n",
      "|Prajnan Subscription|\n",
      "|Vinimaya Subscrip...|\n",
      "|Prajnan Subscription|\n",
      "|Vinimaya Subscrip...|\n",
      "|Prajnan Subscription|\n",
      "|                null|\n",
      "|Vinimaya Subscrip...|\n",
      "|Vinimaya Subscrip...|\n",
      "|Prajnan Subscription|\n",
      "|Vinimaya Subscrip...|\n",
      "+--------------------+\n",
      "\n"
     ]
    }
   ],
   "source": [
    "query.show()"
   ]
  },
  {
   "cell_type": "code",
   "execution_count": 17,
   "id": "815bb42a",
   "metadata": {},
   "outputs": [],
   "source": [
    "query = df_new.select(['phone','productinfo'])"
   ]
  },
  {
   "cell_type": "code",
   "execution_count": 18,
   "id": "77ae62e8",
   "metadata": {},
   "outputs": [
    {
     "name": "stdout",
     "output_type": "stream",
     "text": [
      "+----------+--------------------+\n",
      "|     phone|         productinfo|\n",
      "+----------+--------------------+\n",
      "|9740355404|Prajnan Subscription|\n",
      "|9872156142|Vinimaya Subscrip...|\n",
      "|6207336743|Prajnan Subscription|\n",
      "|8250796058|Vinimaya Subscrip...|\n",
      "|7488152733|Prajnan Subscription|\n",
      "|      null|                null|\n",
      "|7276150233|Vinimaya Subscrip...|\n",
      "|7276150233|Vinimaya Subscrip...|\n",
      "|7276150233|Prajnan Subscription|\n",
      "|9650253600|Vinimaya Subscrip...|\n",
      "+----------+--------------------+\n",
      "\n"
     ]
    }
   ],
   "source": [
    "query.show()"
   ]
  },
  {
   "cell_type": "code",
   "execution_count": 19,
   "id": "a4373dad",
   "metadata": {},
   "outputs": [
    {
     "data": {
      "text/plain": [
       "[('productinfo', 'string'),\n",
       " ('firstname', 'string'),\n",
       " ('phone', 'bigint'),\n",
       " ('email', 'string'),\n",
       " ('amount', 'int')]"
      ]
     },
     "execution_count": 19,
     "metadata": {},
     "output_type": "execute_result"
    }
   ],
   "source": [
    "df_new.dtypes"
   ]
  },
  {
   "cell_type": "code",
   "execution_count": 20,
   "id": "6ef25de7",
   "metadata": {},
   "outputs": [
    {
     "name": "stdout",
     "output_type": "stream",
     "text": [
      "+-------+--------------------+--------------+--------------------+-----------------+------------------+\n",
      "|summary|         productinfo|     firstname|               phone|            email|            amount|\n",
      "+-------+--------------------+--------------+--------------------+-----------------+------------------+\n",
      "|  count|                   9|             9|                   9|                9|                 9|\n",
      "|   mean|                null|          null|       8.115277931E9|             null|294.44444444444446|\n",
      "| stddev|                null|          null|1.3345385335478299E9|             null|164.30620127608628|\n",
      "|    min|Prajnan Subscription|Harpreet Kohli|          6207336743|  admin@admin.com|               100|\n",
      "|    max|Vinimaya Subscrip...|        Uday K|          9872156142|skm9470@gmail.com|               550|\n",
      "+-------+--------------------+--------------+--------------------+-----------------+------------------+\n",
      "\n"
     ]
    }
   ],
   "source": [
    "df_new.describe().show()"
   ]
  },
  {
   "cell_type": "code",
   "execution_count": 26,
   "id": "c6187d59",
   "metadata": {},
   "outputs": [],
   "source": [
    "## Adding Columns in data frame\n",
    "df1=df_new.withColumn('New Amount',df_new['amount']*2)"
   ]
  },
  {
   "cell_type": "code",
   "execution_count": 29,
   "id": "fc5005c0",
   "metadata": {},
   "outputs": [
    {
     "name": "stdout",
     "output_type": "stream",
     "text": [
      "+--------------------+--------------------+----------+--------------------+------+----------+\n",
      "|         productinfo|           firstname|     phone|               email|amount|New Amount|\n",
      "+--------------------+--------------------+----------+--------------------+------+----------+\n",
      "|Prajnan Subscription|          Prema Jedy|9740355404|prema.jedy@gmail.com|   300|       600|\n",
      "|Vinimaya Subscrip...|      Harpreet Kohli|9872156142|harpreet_kohli200...|   550|      1100|\n",
      "|Prajnan Subscription|SUPRIYA KUMAR MAJ...|6207336743|   skm9470@gmail.com|   550|      1100|\n",
      "|Vinimaya Subscrip...|         RAJU SARKAR|8250796058|rajulalgola2016@g...|   225|       450|\n",
      "|Prajnan Subscription| THE LIBRARIAN  IIBF|7488152733| je.trg1@iibf.org.in|   300|       600|\n",
      "|                null|                null|      null|                null|  null|      null|\n",
      "|Vinimaya Subscrip...|              Uday K|7276150233|     admin@admin.com|   100|       200|\n",
      "|Vinimaya Subscrip...|              Uday K|7276150233|     admin@admin.com|   225|       450|\n",
      "|Prajnan Subscription|              Uday K|7276150233|     admin@admin.com|   300|       600|\n",
      "|Vinimaya Subscrip...|  Rajiv Kumar Bansal|9650253600|kumarbansal69@gma...|   100|       200|\n",
      "+--------------------+--------------------+----------+--------------------+------+----------+\n",
      "\n"
     ]
    }
   ],
   "source": [
    "df1.show()"
   ]
  },
  {
   "cell_type": "code",
   "execution_count": 30,
   "id": "1e75b149",
   "metadata": {},
   "outputs": [
    {
     "name": "stdout",
     "output_type": "stream",
     "text": [
      "+--------------------+--------------------+----------+--------------------+------+\n",
      "|         productinfo|           firstname|     phone|               email|amount|\n",
      "+--------------------+--------------------+----------+--------------------+------+\n",
      "|Prajnan Subscription|          Prema Jedy|9740355404|prema.jedy@gmail.com|   300|\n",
      "|Vinimaya Subscrip...|      Harpreet Kohli|9872156142|harpreet_kohli200...|   550|\n",
      "|Prajnan Subscription|SUPRIYA KUMAR MAJ...|6207336743|   skm9470@gmail.com|   550|\n",
      "|Vinimaya Subscrip...|         RAJU SARKAR|8250796058|rajulalgola2016@g...|   225|\n",
      "|Prajnan Subscription| THE LIBRARIAN  IIBF|7488152733| je.trg1@iibf.org.in|   300|\n",
      "|                null|                null|      null|                null|  null|\n",
      "|Vinimaya Subscrip...|              Uday K|7276150233|     admin@admin.com|   100|\n",
      "|Vinimaya Subscrip...|              Uday K|7276150233|     admin@admin.com|   225|\n",
      "|Prajnan Subscription|              Uday K|7276150233|     admin@admin.com|   300|\n",
      "|Vinimaya Subscrip...|  Rajiv Kumar Bansal|9650253600|kumarbansal69@gma...|   100|\n",
      "+--------------------+--------------------+----------+--------------------+------+\n",
      "\n"
     ]
    }
   ],
   "source": [
    "## Drop Column \n",
    "df1=df1.drop('New Amount')\n",
    "df1.show()"
   ]
  },
  {
   "cell_type": "code",
   "execution_count": 32,
   "id": "82bf01c8",
   "metadata": {},
   "outputs": [],
   "source": [
    "## Rename \n",
    "df1 = df1.withColumnRenamed('Amount','New Amount')\n"
   ]
  },
  {
   "cell_type": "code",
   "execution_count": 33,
   "id": "87cd849d",
   "metadata": {},
   "outputs": [
    {
     "name": "stdout",
     "output_type": "stream",
     "text": [
      "+--------------------+--------------------+----------+--------------------+----------+\n",
      "|         productinfo|           firstname|     phone|               email|New Amount|\n",
      "+--------------------+--------------------+----------+--------------------+----------+\n",
      "|Prajnan Subscription|          Prema Jedy|9740355404|prema.jedy@gmail.com|       300|\n",
      "|Vinimaya Subscrip...|      Harpreet Kohli|9872156142|harpreet_kohli200...|       550|\n",
      "|Prajnan Subscription|SUPRIYA KUMAR MAJ...|6207336743|   skm9470@gmail.com|       550|\n",
      "|Vinimaya Subscrip...|         RAJU SARKAR|8250796058|rajulalgola2016@g...|       225|\n",
      "|Prajnan Subscription| THE LIBRARIAN  IIBF|7488152733| je.trg1@iibf.org.in|       300|\n",
      "|                null|                null|      null|                null|      null|\n",
      "|Vinimaya Subscrip...|              Uday K|7276150233|     admin@admin.com|       100|\n",
      "|Vinimaya Subscrip...|              Uday K|7276150233|     admin@admin.com|       225|\n",
      "|Prajnan Subscription|              Uday K|7276150233|     admin@admin.com|       300|\n",
      "|Vinimaya Subscrip...|  Rajiv Kumar Bansal|9650253600|kumarbansal69@gma...|       100|\n",
      "+--------------------+--------------------+----------+--------------------+----------+\n",
      "\n"
     ]
    }
   ],
   "source": [
    "df1.show()"
   ]
  },
  {
   "cell_type": "code",
   "execution_count": null,
   "id": "cb45ac27",
   "metadata": {},
   "outputs": [],
   "source": []
  }
 ],
 "metadata": {
  "kernelspec": {
   "display_name": "Python 3 (ipykernel)",
   "language": "python",
   "name": "python3"
  },
  "language_info": {
   "codemirror_mode": {
    "name": "ipython",
    "version": 3
   },
   "file_extension": ".py",
   "mimetype": "text/x-python",
   "name": "python",
   "nbconvert_exporter": "python",
   "pygments_lexer": "ipython3",
   "version": "3.8.10"
  }
 },
 "nbformat": 4,
 "nbformat_minor": 5
}
